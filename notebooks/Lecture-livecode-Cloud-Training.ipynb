{
 "cells": [
  {
   "cell_type": "markdown",
   "metadata": {},
   "source": [
    "# Setup"
   ]
  },
  {
   "attachments": {},
   "cell_type": "markdown",
   "metadata": {},
   "source": [
    "1. Start by running `make reset_local_files`\n",
    "2. go to `params.py` and fill your gcp project info into\n",
    "3. Run `make run_preprocess`\n",
    "4. Run `make run_train` it will be bad don't worry for the lecture \n",
    "5. Setup a VM by following the **training in the cloud** challenge\n",
    "5. Follow the instructions below to install direnv if you don't already have it 👇\n"
   ]
  },
  {
   "cell_type": "markdown",
   "metadata": {},
   "source": [
    "### Setting up `direnv` to manage environment variables"
   ]
  },
  {
   "cell_type": "markdown",
   "metadata": {},
   "source": [
    "Install using instructions for your machine [in direnv docs](https://direnv.net/docs/installation.html)\n",
    "\n",
    "1. After installation, add `direnv` to the list of oh-my-zsh plugins in your `~/.zshrc` (run `zsh` or open a new terminal window in order to apply the change)\n",
    "2. If `direnv` does not load in the shell you can run `eval \"$(direnv hook zsh)\"` (add it to the `~/.zshrc` as well)"
   ]
  },
  {
   "attachments": {},
   "cell_type": "markdown",
   "metadata": {},
   "source": [
    "# Lecture livecodes"
   ]
  },
  {
   "attachments": {},
   "cell_type": "markdown",
   "metadata": {},
   "source": [
    "## Application Parameters"
   ]
  },
  {
   "attachments": {},
   "cell_type": "markdown",
   "metadata": {},
   "source": [
    "**Create a .env file**\n",
    "1.\n",
    "```bash\n",
    "touch .env\n",
    "```\n",
    "2.\n",
    "```\n",
    "MODEL_TARGET = local\n",
    "```"
   ]
  },
  {
   "attachments": {},
   "cell_type": "markdown",
   "metadata": {},
   "source": [
    "**load the .env file**\n",
    "1.\n",
    "```bash\n",
    "echo dotenv > .envrc\n",
    "```\n",
    "2.\n",
    "```\n",
    "direnv allow\n",
    "```\n",
    "\n",
    "3.\n",
    "```\n",
    "echo $MODEL_TARGET\n",
    "```\n",
    "\n",
    "4. (Optional)\n",
    "\n",
    "Good place to show adding another thing to `.env` and the need for `direnv reload` + what happens if you `cd ..` and then `echo $MODEL_TARGET`"
   ]
  },
  {
   "attachments": {},
   "cell_type": "markdown",
   "metadata": {},
   "source": [
    "**Environment variable demonstration**\n",
    "1.\n",
    "```python\n",
    "MODEL_TARGET = os.envirion.get(\"MODEL_TARGET\")\n",
    "```\n",
    "2/3.\n",
    "```python\n",
    "if __name__ == \"__main__\":\n",
    "    if MODEL_TARGET == \"local\":\n",
    "        print(\"Local model\")\n",
    "    elif MODEL_TARGET == \"gcs\":\n",
    "        print(\"GCS model\")\n",
    "    else:\n",
    "        raise ValueError(\"MODEL_TARGET must be either 'local' or 'gcs'\")\n",
    "```\n",
    "4. \n",
    "Switch back and forth and discuss other ways to use a control flow for example reverting to a default for example\n",
    "\n",
    "```python\n",
    "if MODEL_TARGET == \"gcs\":\n",
    "    print(\"gcs model\")\n",
    "    return\n",
    "normal code\n",
    "return\n",
    "```\n",
    "\n",
    "🕵️‍♀️ Have a look at how we use a similar control flow further up in the functions but we will save diving into the code for the next section"
   ]
  },
  {
   "attachments": {},
   "cell_type": "markdown",
   "metadata": {},
   "source": [
    "## Save model to the cloud livecode"
   ]
  },
  {
   "attachments": {},
   "cell_type": "markdown",
   "metadata": {},
   "source": [
    "1. Create a bucket don't forget it should be globally unique\n",
    "2. BUCKET_NAME in .env and BUCKET_NAME = `os.envirion.get(\"BUCKET_NAME\")` in `params.py`\n",
    "\n",
    "🕵️‍♀️ Investigate the save_model code\n",
    "\n",
    "Run a training with `make run_train`"
   ]
  },
  {
   "attachments": {},
   "cell_type": "markdown",
   "metadata": {},
   "source": [
    "Checkout the model with `gsutil ls -r  \"gs://$BUCKET_NAME\"`\n",
    "\n",
    "Copy the models `mkidr local_model` and `gsutil cp -r \"gs://$BUCKET_NAME\" local_models/`"
   ]
  },
  {
   "attachments": {},
   "cell_type": "markdown",
   "metadata": {},
   "source": [
    "## Data in the cloud livecode"
   ]
  },
  {
   "attachments": {},
   "cell_type": "markdown",
   "metadata": {},
   "source": [
    "🕵️‍♀️ Mostly investigating the code already in there\n",
    "\n",
    "\n",
    "For checking out the dataset with the cli\n",
    "```\n",
    "bq ls taxifare\n",
    "```\n",
    "\n",
    "```\n",
    "bq show\n",
    "```\n",
    "\n",
    "```\n",
    "bq query 'SELECT * FROM taxifare.processed_1k LIMIT 1'\n",
    "```\n"
   ]
  },
  {
   "attachments": {},
   "cell_type": "markdown",
   "metadata": {},
   "source": [
    "## Training in the cloud livecode"
   ]
  },
  {
   "attachments": {},
   "cell_type": "markdown",
   "metadata": {},
   "source": [
    "💻 Create and connect to a virtual machine recommend to do throug web ui for students\n",
    "\n",
    "Connect to vm with\n",
    "\n",
    "```\n",
    "gcloud compute ssh <instance name>\n",
    "```\n",
    "\n",
    "```\n",
    "gcloud scp <local file> $USER@<instance name>:~/<machine path>\n",
    "```\n",
    "\n",
    "\n"
   ]
  },
  {
   "attachments": {},
   "cell_type": "markdown",
   "metadata": {},
   "source": [
    "💻 Reconnect to your configured vm and do a training their!"
   ]
  },
  {
   "cell_type": "markdown",
   "metadata": {},
   "source": [
    "Stop the machine "
   ]
  }
 ],
 "metadata": {
  "kernelspec": {
   "display_name": "Python 3",
   "language": "python",
   "name": "python3"
  }
 },
 "nbformat": 4,
 "nbformat_minor": 5
}
